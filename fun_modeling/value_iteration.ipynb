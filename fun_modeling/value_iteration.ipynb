{
 "cells": [
  {
   "cell_type": "markdown",
   "source": [
    "# Gambler's Problem\n",
    "\n",
    "Consider a gamble on a series of coin flips. The goal is to get $100 from a set of capital $s \\in \\{1, 2, \\ldots, 99 \\}$ by wagering an action of $a \\in \\{0, 1, \\ldots, \\min(s, 100-s) \\}$. The reward is zero for all bets until the goal of $100 is reached which gives +1. How much should the gambler bet in each round with their captial?\n",
    "\n",
    "Given probability of positively flipping a coin $p_h$, the solution can be computed with *value iteration*\n",
    "\n",
    "$$\n",
    "V(s) = \\max_a \\sum_{s'} p(s', r \\; | \\; s, a) [r + \\gamma V(s')].\n",
    "$$\n",
    "\n",
    "In English, this equation states the optimal action $a$ in the current state $s$ is the action which lands in the next state $s'$ with reward $r$ along with the discounted reward $\\gamma V(s')$. Since each action has several outcomes $p(s' \\; | s, a)$, the sum term computes the expected reward from all possible outcomes. Also the equation recursively calls itself $\\gamma V(s')$. It's also non-linear because we're chosing the action with maximum expected reward $\\max_a$."
   ],
   "metadata": {}
  },
  {
   "cell_type": "code",
   "execution_count": 2,
   "source": [
    "import numpy as np\n",
    "import matplotlib.pyplot as plt"
   ],
   "outputs": [],
   "metadata": {}
  },
  {
   "cell_type": "code",
   "execution_count": 3,
   "source": [
    "capital = list(range(100+1))\n",
    "def stakes(s):\n",
    "    return list(range(min(s, 100 - s)+1))"
   ],
   "outputs": [],
   "metadata": {}
  },
  {
   "cell_type": "code",
   "execution_count": 4,
   "source": [
    "ph = 0.4\n",
    "gamma = .9"
   ],
   "outputs": [],
   "metadata": {}
  },
  {
   "cell_type": "code",
   "execution_count": 5,
   "source": [
    "Sn = len(capital)\n",
    "V = np.zeros(Sn)\n",
    "policy = np.zeros(Sn)\n",
    "iter = 0\n",
    "theta = 0\n",
    "\n",
    "# save V at iterations 1, 2, 3, 32\n",
    "Vi = []\n",
    "\n",
    "while True:\n",
    "    delta = np.zeros(Sn)\n",
    "    iter += 1\n",
    "    for i, s in enumerate(capital):\n",
    "        if s == 100:\n",
    "            continue\n",
    "        actions = stakes(s)\n",
    "        Vs = np.zeros(len(actions))\n",
    "        for j, a in enumerate(actions):\n",
    "            # for each action, the outcomes are only positive if s+a = 100\n",
    "            r = 0\n",
    "            # if a + s > 100:\n",
    "            #     continue  # out of domain condition\n",
    "            if (a + s) == 100:\n",
    "                r = 1\n",
    "                # print(f\"Winning combo: {a}+{s}\")\n",
    "            \n",
    "            Vs[j] = ph * (r + gamma * V[a+s])\n",
    "            # Add expected reward from tail outcome\n",
    "            # if s-a > 0:\n",
    "            Vs[j] += (1 - ph) * (gamma * V[s - a])\n",
    "\n",
    "        delta[i] = np.abs(V[i] - Vs.max())\n",
    "        V[i] = Vs.max()\n",
    "        policy[i] = Vs.argmax()\n",
    "\n",
    "    if iter in (1, 2, 3, 32):\n",
    "        Vi.append(V.copy())    \n",
    "    \n",
    "    if np.all(delta <= theta):\n",
    "        print(\"Value iteration complete after {} steps\".format(iter))\n",
    "        break\n",
    "\n",
    "\n",
    "fig, axs = plt.subplots(2, 1)\n",
    "axs[0].plot(capital, V)\n",
    "for val in Vi:\n",
    "    axs[0].plot(capital, val)\n",
    "axs[1].plot(capital, policy)\n",
    "axs[0].set_ylabel(\"Expected Value\")\n",
    "axs[1].set_ylabel(\"Optimal Stake\")\n",
    "axs[1].set_xlabel(\"Capital\")\n",
    "axs[0].set_title(\"Value Iteration solution for the Gambler's Problem\")"
   ],
   "outputs": [
    {
     "output_type": "stream",
     "name": "stdout",
     "text": [
      "Value iteration complete after 32 steps\n"
     ]
    },
    {
     "output_type": "execute_result",
     "data": {
      "text/plain": [
       "Text(0.5, 1.0, \"Value Iteration solution for the Gambler's Problem\")"
      ]
     },
     "metadata": {},
     "execution_count": 5
    },
    {
     "output_type": "display_data",
     "data": {
      "image/png": "[encoded data removed]",
      "text/plain": [
       "<Figure size 432x288 with 2 Axes>"
      ]
     },
     "metadata": {
      "needs_background": "light"
     }
    }
   ],
   "metadata": {}
  },
  {
   "cell_type": "markdown",
   "source": [
    "## Frozen Lake\n",
    "\n",
    "Consider a $4 \\times 4$ grid. The environment has 16 possible states $\\mathcal S$, and four actions $\\mathcal A$: `{0:LEFT, 1:DOWN, 2:RIGHT, 4:UP}`. The transition dynamics $p(s' \\; | \\; s, a)$ are $1/3$ move in the intended direction, and $1/3$ move orthogonal, *i.e.*, `LEFT` or `RIGHT`, of the intended direction. "
   ],
   "metadata": {}
  },
  {
   "cell_type": "code",
   "execution_count": 6,
   "source": [
    "from FrozenLake import FrozenLakeEnv\n",
    "from collections import Counter"
   ],
   "outputs": [],
   "metadata": {}
  },
  {
   "cell_type": "code",
   "execution_count": 7,
   "source": [
    "MAP_SIZE=\"8x8\"\n",
    "if MAP_SIZE == \"4x4\":\n",
    "    goal = 15\n",
    "else:\n",
    "    goal = 63\n",
    "\n",
    "actions = {\n",
    "    0: \"LEFT\",\n",
    "    1: \"DOWN\",\n",
    "    2: \"RIGHT\",\n",
    "    3: \"UP\"\n",
    "}"
   ],
   "outputs": [],
   "metadata": {}
  },
  {
   "cell_type": "code",
   "execution_count": 8,
   "source": [
    "env = FrozenLakeEnv(map_name=MAP_SIZE, is_slippery=True)\n",
    "env.reset()\n",
    "env.render()"
   ],
   "outputs": [
    {
     "output_type": "stream",
     "name": "stdout",
     "text": [
      "\n",
      "\u001b[41mS\u001b[0mFFFFFFF\n",
      "FFFFFFFF\n",
      "FFFHFFFF\n",
      "FFFFFHFF\n",
      "FFFHFFFF\n",
      "FHHFFFHF\n",
      "FHFFHFHF\n",
      "FFFHFFFG\n"
     ]
    }
   ],
   "metadata": {}
  },
  {
   "cell_type": "code",
   "execution_count": 9,
   "source": [
    "def value_iteration(env, gamma=1, theta=1e-8):\n",
    "    r\"\"\"Policy evaluation function. Loop until state rewards are stable.\n",
    "    \n",
    "    Returns: \n",
    "        V (np.array): expected state value given an infinite horizon.\n",
    "        policy (np.array): best action for each state.\n",
    "\n",
    "    Args:\n",
    "        env (gym.env): gym environment.\n",
    "        gamma (float): future reward discount rate.\n",
    "        theta (float): stopping criterion.\n",
    "    \"\"\"\n",
    "    # Initialize state-value array\n",
    "    S_n = env.observation_space.n\n",
    "    V = np.zeros(S_n)\n",
    "    policy = np.ones(S_n) * -1\n",
    "    delta = np.zeros(S_n)\n",
    "    i = 0\n",
    "    while True:\n",
    "        i += 1\n",
    "        # Loop through states\n",
    "        for s in env.P:\n",
    "            Vs = np.zeros(len(env.P[s]))\n",
    "            # Loop through available actions in each state\n",
    "            for a in env.P[s]:\n",
    "                # Loop though transition probabilities, next state, and rewards\n",
    "                for prob, next_state, reward, done in env.P[s][a]:\n",
    "                    Vs[a] += prob * (reward + gamma * V[next_state])\n",
    "            delta[s] = np.abs(V[s] - Vs.max())\n",
    "            V[s] = Vs.max()\n",
    "            policy[s] = Vs.argmax()\n",
    "        if np.all(delta < theta):\n",
    "            print(\"Value iteration complete after {} steps\".format(i))\n",
    "            break\n",
    "    return V, policy\n"
   ],
   "outputs": [],
   "metadata": {}
  },
  {
   "cell_type": "code",
   "execution_count": 60,
   "source": [
    "Sn = len(env.P)\n",
    "grid_size = int(np.sqrt(Sn))\n",
    "env.reset()\n",
    "V, policy = value_iteration(env, gamma=.9)\n",
    "\n",
    "# print(np.array2string(V.reshape(grid_size,grid_size), precision=3))\n",
    "opt_action = np.array([actions[a] for a in policy]).reshape(grid_size,grid_size)\n",
    "# print(np.array2string(opt_action))\n",
    "\n",
    "\n",
    "total_reward = 0\n",
    "episodes = 1000\n",
    "end_state = []\n",
    "episode_failures = []\n",
    "t_max = 100\n",
    "\n",
    "for i_episode in range(episodes):\n",
    "    obs = env.reset()\n",
    "    action_list = []\n",
    "    state_list = [obs]\n",
    "    for t in range(t_max):\n",
    "        # env.render()\n",
    "        # print(obs)\n",
    "        action = policy[obs]\n",
    "        action_list.append(action)\n",
    "        obs, reward, done, info = env.step(action)  # take an action based on the optimal policy\n",
    "        state_list.append(obs)\n",
    "        if done:\n",
    "            # total_reward += reward\n",
    "            end_state.append(obs)\n",
    "            if obs == goal:\n",
    "                total_reward += 1\n",
    "                # print (\"Made the goal!\")\n",
    "            else:\n",
    "                # Add the action sequence that produced the bad outcome\n",
    "                episode_failures.append((state_list, action_list))\n",
    "                # print(\"Fell in the hole at ({},{})\".format(obs // 4, obs%4))\n",
    "            # print(\"Episode {} finished after {} timeteps. Reward {}.\".format(\n",
    "                # i_episode+1, t+1, reward))\n",
    "            break\n",
    "        elif t == t_max-1:\n",
    "            # Out of time\n",
    "            end_state.append(obs)\n",
    "env.close()\n",
    "print(f\"Reward percentage {total_reward/episodes}\")\n",
    "\n",
    "histogram = Counter(end_state)\n",
    "# locs = [f\"({idx // grid_size}, {idx % grid_size})\" for idx in histogram.keys()]\n",
    "# plt.bar(locs, histogram.values())\n",
    "# # plt.title(\"Terminal State locations\")\n",
    "# plt.show()\n"
   ],
   "outputs": [
    {
     "output_type": "stream",
     "name": "stdout",
     "text": [
      "Value iteration complete after 86 steps\n",
      "Reward percentage 0.616\n"
     ]
    }
   ],
   "metadata": {}
  },
  {
   "cell_type": "code",
   "execution_count": 58,
   "source": [
    "# Get grid in terms of Hole:-1, F:0, G:1\n",
    "lake = np.zeros((grid_size, grid_size))\n",
    "for (x,y), el in np.ndenumerate(env.desc):\n",
    "    if el == b'S':\n",
    "        lake[x,y] = .5\n",
    "    elif el == b'H':\n",
    "        lake[x,y] = -1\n",
    "    elif el == b'G':\n",
    "        lake[x,y] = 1\n",
    "\n",
    "fig, ax = plt.subplots()\n",
    "ax.imshow(lake)    \n",
    "\n",
    "ax.set_xticks(np.arange(grid_size))\n",
    "ax.set_yticks(np.arange(grid_size))\n",
    "# \n",
    "locs = [(idx // grid_size, idx % grid_size) for idx in histogram.keys()]\n",
    "for key, val in histogram.items():\n",
    "    loc = (key // grid_size, key % grid_size)\n",
    "    ax.text(loc[1], loc[0], val,\n",
    "        ha='center', va='bottom', color='r')\n",
    "\n",
    "for (y,x), a in np.ndenumerate(opt_action):\n",
    "    if a == 'UP':\n",
    "        txt = r\"$\\uparrow$\"\n",
    "    elif a == 'RIGHT':\n",
    "        txt = r\"$\\rightarrow$\"\n",
    "    elif a == 'LEFT':\n",
    "        txt = r\"$\\leftarrow$\"\n",
    "    elif a == 'DOWN':\n",
    "        txt = r\"$\\downarrow$\"\n",
    "    if lake[y,x] in (-1, 1):\n",
    "        continue\n",
    "    ax.text(x, y, txt, ha='center', va='top')\n",
    "\n",
    "ax.set_title(f\"Frozen Lake {MAP_SIZE} Optimal Policy\");"
   ],
   "outputs": [
    {
     "output_type": "display_data",
     "data": {
      "image/png": "[encoded data removed]",
      "text/plain": [
       "<Figure size 432x288 with 1 Axes>"
      ]
     },
     "metadata": {
      "needs_background": "light"
     }
    }
   ],
   "metadata": {}
  }
 ],
 "metadata": {
  "orig_nbformat": 4,
  "language_info": {
   "name": "python",
   "version": "3.7.5",
   "mimetype": "text/x-python",
   "codemirror_mode": {
    "name": "ipython",
    "version": 3
   },
   "pygments_lexer": "ipython3",
   "nbconvert_exporter": "python",
   "file_extension": ".py"
  },
  "kernelspec": {
   "name": "python3",
   "display_name": "Python 3.7.5 64-bit"
  },
  "interpreter": {
   "hash": "31f2aee4e71d21fbe5cf8b01ff0e069b9275f58929596ceb00d14d90e3e16cd6"
  }
 },
 "nbformat": 4,
 "nbformat_minor": 2
}